{
 "cells": [
  {
   "cell_type": "markdown",
   "metadata": {},
   "source": [
    "my_fullstack_project/\n",
    "├── backend/           # FastAPI Backend\n",
    "│   ├── app/\n",
    "│   │   ├── main.py    # FastAPI entry point\n",
    "│   │   ├── api/       # API routes\n",
    "│   │   ├── models/    # Database models\n",
    "│   │   ├── schemas/   # Pydantic models (data validation)\n",
    "│   │   ├── crud/      # Database CRUD operations\n",
    "│   │   └── db/        # Database connection/session\n",
    "│   └── requirements.txt\n",
    "├── frontend/          # React Frontend\n",
    "│   ├── src/\n",
    "│   │   ├── App.tsx    # Main React component (for TypeScript)\n",
    "│   │   ├── components/ # UI components\n",
    "│   │   ├── services/  # API calls to FastAPI using axios/fetch\n",
    "│   │   └── pages/     # Pages for routes\n",
    "│   └── package.json   # Frontend dependencies and scripts\n",
    "├── docker-compose.yml # Optional: Docker config for frontend/backend\n",
    "└── README.md"
   ]
  },
  {
   "cell_type": "markdown",
   "metadata": {},
   "source": [
    "Steps to Build the Full Stack\n",
    "\n",
    "Backend with FastAPI\n",
    "\n",
    "\t1.\tInstall FastAPI and Uvicorn:"
   ]
  },
  {
   "cell_type": "code",
   "execution_count": null,
   "metadata": {},
   "outputs": [],
   "source": [
    "%pip install fastapi uvicorn"
   ]
  },
  {
   "cell_type": "markdown",
   "metadata": {},
   "source": [
    "\t2.\tSet Up FastAPI Routes:\n",
    "Define your routes in main.py and any necessary submodules."
   ]
  },
  {
   "cell_type": "code",
   "execution_count": null,
   "metadata": {},
   "outputs": [],
   "source": [
    "# main.py\n",
    "from fastapi import FastAPI\n",
    "from pydantic import BaseModel\n",
    "\n",
    "app = FastAPI()\n",
    "\n",
    "class Item(BaseModel):\n",
    "    name: str\n",
    "    description: str\n",
    "\n",
    "@app.post(\"/items/\")\n",
    "async def create_item(item: Item):\n",
    "    return item"
   ]
  },
  {
   "cell_type": "markdown",
   "metadata": {},
   "source": [
    "3.\tRun FastAPI:\n",
    "Run your backend with:"
   ]
  },
  {
   "cell_type": "code",
   "execution_count": null,
   "metadata": {},
   "outputs": [],
   "source": [
    "!uvicorn app.main:app --reload\n"
   ]
  },
  {
   "cell_type": "markdown",
   "metadata": {},
   "source": [
    "FastAPI will be available at http://localhost:8000.\n"
   ]
  },
  {
   "cell_type": "markdown",
   "metadata": {},
   "source": [
    "Frontend with React\n",
    "\n",
    "\t1.\tCreate a React App:\n",
    "If using TypeScript:"
   ]
  },
  {
   "cell_type": "code",
   "execution_count": null,
   "metadata": {
    "vscode": {
     "languageId": "powershell"
    }
   },
   "outputs": [],
   "source": [
    "npm create vite@latest frontend"
   ]
  },
  {
   "cell_type": "markdown",
   "metadata": {},
   "source": [
    "2.\tInstall Axios or Fetch for API Calls:\n",
    "You can use Axios or the native fetch API to communicate with FastAPI."
   ]
  },
  {
   "cell_type": "code",
   "execution_count": null,
   "metadata": {
    "vscode": {
     "languageId": "powershell"
    }
   },
   "outputs": [],
   "source": [
    "npm install axios"
   ]
  },
  {
   "cell_type": "markdown",
   "metadata": {},
   "source": [
    "3.\tMaking API Calls:\n",
    "In React, you can now make calls to the FastAPI backend:"
   ]
  },
  {
   "cell_type": "code",
   "execution_count": null,
   "metadata": {
    "vscode": {
     "languageId": "javascript"
    }
   },
   "outputs": [],
   "source": [
    "// services/api.ts\n",
    "import axios from \"axios\";\n",
    "\n",
    "export const createItem = async (item: any) => {\n",
    "  const response = await axios.post(\"http://localhost:8000/items/\", item);\n",
    "  return response.data;\n",
    "};"
   ]
  },
  {
   "cell_type": "markdown",
   "metadata": {},
   "source": [
    "4.\tUse in React Components:\n",
    "In a React component:"
   ]
  },
  {
   "cell_type": "code",
   "execution_count": null,
   "metadata": {
    "vscode": {
     "languageId": "javascript"
    }
   },
   "outputs": [],
   "source": [
    "// App.tsx\n",
    "import React, { useState } from \"react\";\n",
    "import { createItem } from \"./services/api\";\n",
    "\n",
    "const App = () => {\n",
    "  const [item, setItem] = useState({ name: \"\", description: \"\" });\n",
    "\n",
    "  const handleSubmit = async () => {\n",
    "    const result = await createItem(item);\n",
    "    console.log(result);\n",
    "  };\n",
    "\n",
    "  return (\n",
    "    <div>\n",
    "      <input\n",
    "        type=\"text\"\n",
    "        placeholder=\"Name\"\n",
    "        onChange={(e) => setItem({ ...item, name: e.target.value })}\n",
    "      />\n",
    "      <input\n",
    "        type=\"text\"\n",
    "        placeholder=\"Description\"\n",
    "        onChange={(e) => setItem({ ...item, description: e.target.value })}\n",
    "      />\n",
    "      <button onClick={handleSubmit}>Submit</button>\n",
    "    </div>\n",
    "  );\n",
    "};\n",
    "\n",
    "export default App;"
   ]
  },
  {
   "cell_type": "markdown",
   "metadata": {},
   "source": [
    "\t5.\tRun React:\n",
    "To start the frontend, navigate to the frontend/ folder and run:"
   ]
  },
  {
   "cell_type": "code",
   "execution_count": null,
   "metadata": {
    "vscode": {
     "languageId": "powershell"
    }
   },
   "outputs": [],
   "source": [
    "npm start"
   ]
  },
  {
   "cell_type": "markdown",
   "metadata": {},
   "source": [
    "This will serve your React app at http://localhost:3000, and your React app will be able to make requests to FastAPI at http://localhost:8000.\n",
    "\n",
    "4. CORS Configuration\n",
    "\n",
    "To allow your React app to communicate with FastAPI, you’ll need to configure CORS (Cross-Origin Resource Sharing) on your FastAPI backend:"
   ]
  },
  {
   "cell_type": "code",
   "execution_count": null,
   "metadata": {},
   "outputs": [],
   "source": [
    "# main.py\n",
    "from fastapi.middleware.cors import CORSMiddleware\n",
    "\n",
    "app.add_middleware(\n",
    "    CORSMiddleware,\n",
    "    allow_origins=[\"http://localhost:3000\"],  # React's address\n",
    "    allow_credentials=True,\n",
    "    allow_methods=[\"*\"],\n",
    "    allow_headers=[\"*\"],\n",
    ")"
   ]
  }
 ],
 "metadata": {
  "kernelspec": {
   "display_name": "Python 3",
   "language": "python",
   "name": "python3"
  },
  "language_info": {
   "name": "python",
   "version": "3.11.9"
  }
 },
 "nbformat": 4,
 "nbformat_minor": 2
}

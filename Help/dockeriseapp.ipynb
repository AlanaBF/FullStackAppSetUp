{
 "cells": [
  {
   "cell_type": "markdown",
   "metadata": {},
   "source": [
    "1. Dockerizing the FastAPI Backend\n",
    "\n",
    "\t1.\tCreate a Dockerfile for the FastAPI backend:"
   ]
  },
  {
   "cell_type": "markdown",
   "metadata": {},
   "source": []
  },
  {
   "cell_type": "code",
   "execution_count": null,
   "metadata": {
    "vscode": {
     "languageId": "plaintext"
    }
   },
   "outputs": [],
   "source": [
    "# backend/Dockerfile\n",
    "\n",
    "# Use an official Python runtime as a parent image\n",
    "FROM python:3.9-slim\n",
    "\n",
    "# Set the working directory in the container\n",
    "WORKDIR /app\n",
    "\n",
    "# Copy the requirements file to the working directory\n",
    "COPY requirements.txt .\n",
    "\n",
    "# Install the required dependencies\n",
    "RUN pip install --no-cache-dir -r requirements.txt\n",
    "\n",
    "# Copy the FastAPI app code to the container\n",
    "COPY . .\n",
    "\n",
    "# Expose the port FastAPI runs on\n",
    "EXPOSE 8000\n",
    "\n",
    "# Command to run the FastAPI app\n",
    "CMD [\"uvicorn\", \"app.main:app\", \"--host\", \"0.0.0.0\", \"--port\", \"8000\"]"
   ]
  },
  {
   "cell_type": "markdown",
   "metadata": {},
   "source": [
    "\t2.\tCreate a requirements.txt for the backend (if you don’t have one already):"
   ]
  },
  {
   "cell_type": "code",
   "execution_count": null,
   "metadata": {
    "vscode": {
     "languageId": "plaintext"
    }
   },
   "outputs": [],
   "source": [
    "fastapi\n",
    "uvicorn\n",
    "sqlalchemy\n",
    "pydantic\n",
    "python-dotenv"
   ]
  },
  {
   "cell_type": "markdown",
   "metadata": {},
   "source": [
    "\t3.\tBuild the Docker image:\n",
    "Run the following command from the backend/ directory:"
   ]
  },
  {
   "cell_type": "code",
   "execution_count": null,
   "metadata": {
    "vscode": {
     "languageId": "powershell"
    }
   },
   "outputs": [],
   "source": [
    "docker build -t fastapi-backend ."
   ]
  },
  {
   "cell_type": "markdown",
   "metadata": {},
   "source": [
    "2. Dockerizing the React Frontend\n",
    "\n",
    "\t1.\tCreate a Dockerfile for the React frontend:"
   ]
  },
  {
   "cell_type": "code",
   "execution_count": null,
   "metadata": {
    "vscode": {
     "languageId": "powershell"
    }
   },
   "outputs": [],
   "source": [
    "# frontend/Dockerfile\n",
    "\n",
    "# Use an official Node.js runtime as a parent image\n",
    "FROM node:16-alpine\n",
    "\n",
    "# Set the working directory in the container\n",
    "WORKDIR /app\n",
    "\n",
    "# Copy the package.json and yarn.lock (or package-lock.json if using npm)\n",
    "COPY package*.json ./\n",
    "\n",
    "# Install the dependencies\n",
    "RUN npm install\n",
    "\n",
    "# Copy the rest of the frontend code\n",
    "COPY . .\n",
    "\n",
    "# Build the React app for production\n",
    "RUN npm run build\n",
    "\n",
    "# Expose the port the frontend runs on (e.g., port 3000)\n",
    "EXPOSE 3000\n",
    "\n",
    "# Start the app\n",
    "CMD [\"npm\", \"start\"]"
   ]
  },
  {
   "cell_type": "markdown",
   "metadata": {},
   "source": [
    "\t2.\tBuild the Docker image:\n",
    "Run the following command from the frontend/ directory:"
   ]
  },
  {
   "cell_type": "code",
   "execution_count": null,
   "metadata": {
    "vscode": {
     "languageId": "powershell"
    }
   },
   "outputs": [],
   "source": [
    "docker build -t react-frontend ."
   ]
  },
  {
   "cell_type": "markdown",
   "metadata": {},
   "source": [
    "3. Docker Compose for Both Services\n",
    "\n",
    "Next, you’ll create a docker-compose.yml file to run both the FastAPI backend and the React frontend in separate containers, but allow them to communicate with each other.\n",
    "\n",
    "\t1.\tCreate a docker-compose.yml file at the root of your project (outside both the frontend/ and backend/ folders):"
   ]
  },
  {
   "cell_type": "markdown",
   "metadata": {},
   "source": [
    "version: '3.8'\n",
    "\n",
    "services:\n",
    "  backend:\n",
    "    build:\n",
    "      context: ./backend\n",
    "      dockerfile: Dockerfile\n",
    "    container_name: fastapi-backend\n",
    "    ports:\n",
    "      - \"8000:8000\"\n",
    "    environment:\n",
    "      - DATABASE_URL=sqlite:///./test.db  # Example of environment variable\n",
    "    networks:\n",
    "      - mynetwork\n",
    "\n",
    "  frontend:\n",
    "    build:\n",
    "      context: ./frontend\n",
    "      dockerfile: Dockerfile\n",
    "    container_name: react-frontend\n",
    "    ports:\n",
    "      - \"3000:3000\"\n",
    "    networks:\n",
    "      - mynetwork\n",
    "\n",
    "networks:\n",
    "  mynetwork:\n",
    "    driver: bridge"
   ]
  },
  {
   "cell_type": "markdown",
   "metadata": {
    "vscode": {
     "languageId": "powershell"
    }
   },
   "source": [
    "4. Configuring Communication Between FastAPI and React\n",
    "\n",
    "\t•\tBy default, containers in the same Docker network can communicate with each other by referring to the service names defined in the docker-compose.yml. In this case, the React app can refer to the FastAPI backend as http://backend:8000 because backend is the service name.\n",
    "\t•\tIn the React frontend, instead of http://localhost:8000, you should call http://backend:8000 to communicate with the FastAPI service.\n",
    "Update your React service calls like so:"
   ]
  },
  {
   "cell_type": "code",
   "execution_count": null,
   "metadata": {
    "vscode": {
     "languageId": "javascript"
    }
   },
   "outputs": [],
   "source": [
    "// services/api.ts\n",
    "import axios from 'axios';\n",
    "\n",
    "// Note: 'backend' refers to the FastAPI service in Docker\n",
    "const API_BASE_URL = 'http://backend:8000';\n",
    "\n",
    "export const fetchItems = async () => {\n",
    "  const response = await axios.get(`${API_BASE_URL}/items`);\n",
    "  return response.data;\n",
    "};"
   ]
  },
  {
   "cell_type": "markdown",
   "metadata": {},
   "source": [
    "5. Running the Containers\n",
    "\n",
    "\t1.\tBuild and start both containers:\n",
    "From the root of your project, where the docker-compose.yml is located, run:"
   ]
  },
  {
   "cell_type": "code",
   "execution_count": null,
   "metadata": {
    "vscode": {
     "languageId": "powershell"
    }
   },
   "outputs": [],
   "source": [
    "docker-compose up --build"
   ]
  },
  {
   "cell_type": "markdown",
   "metadata": {},
   "source": [
    "\n",
    "\t2.\tAccess the services:\n",
    "\t•\tThe FastAPI backend will be available at http://localhost:8000.\n",
    "\t•\tThe React frontend will be available at http://localhost:3000.\n",
    "\t3.\tVerify that they are communicating:\n",
    "When the React frontend makes requests to the backend (http://backend:8000 inside the Docker network), you should see data being fetched and displayed in your React components.\n",
    "\n",
    "6. CORS Handling in FastAPI\n",
    "\n",
    "To ensure your React app can interact with the FastAPI backend, you’ll need to set up CORS properly in FastAPI:"
   ]
  },
  {
   "cell_type": "code",
   "execution_count": null,
   "metadata": {},
   "outputs": [],
   "source": [
    "# backend/app/main.py\n",
    "from fastapi import FastAPI\n",
    "from fastapi.middleware.cors import CORSMiddleware\n",
    "\n",
    "app = FastAPI()\n",
    "\n",
    "# Allow the frontend to make requests to the backend\n",
    "app.add_middleware(\n",
    "    CORSMiddleware,\n",
    "    allow_origins=[\"*\"],  # Allow all origins (or specify your frontend's address, e.g., \"http://localhost:3000\")\n",
    "    allow_credentials=True,\n",
    "    allow_methods=[\"*\"],\n",
    "    allow_headers=[\"*\"],\n",
    ")\n",
    "\n",
    "@app.get(\"/\")\n",
    "def read_root():\n",
    "    return {\"message\": \"Welcome to FastAPI\"}"
   ]
  }
 ],
 "metadata": {
  "language_info": {
   "name": "python"
  }
 },
 "nbformat": 4,
 "nbformat_minor": 2
}
